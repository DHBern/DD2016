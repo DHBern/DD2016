{
 "cells": [
  {
   "cell_type": "markdown",
   "metadata": {},
   "source": [
    "Python and XML\n",
    "==========\n",
    "\n",
    "We have looked at XML, what it's used for, and some of the world of XML technology for handling it. But it's also perfectly possible to handle XML from within Python! Here we will do some of the same things as we did in the last lesson, but using a language that you're already gaining some familiarity with.\n",
    "\n",
    "The most well-supported library for handling XML in Python is known as [lxml](http://lxml.de/tutorial.html). We will use it here."
   ]
  },
  {
   "cell_type": "code",
   "execution_count": 1,
   "metadata": {
    "collapsed": true
   },
   "outputs": [],
   "source": [
    "from lxml import etree"
   ]
  },
  {
   "cell_type": "markdown",
   "metadata": {},
   "source": [
    "You start by creating an \"element tree\", which is what lxml calls a parsed XML document. The `parse()` method can understand a filename, a URL, or even a filehandle that you have already opened."
   ]
  },
  {
   "cell_type": "code",
   "execution_count": 2,
   "metadata": {
    "collapsed": false
   },
   "outputs": [
    {
     "data": {
      "text/plain": [
       "<Element s at 0x105477808>"
      ]
     },
     "execution_count": 2,
     "metadata": {},
     "output_type": "execute_result"
    }
   ],
   "source": [
    "sent = etree.parse(\"sentence_example.xml\")\n",
    "sent.getroot()"
   ]
  },
  {
   "cell_type": "markdown",
   "metadata": {},
   "source": [
    "An element tree, like an XML document, has a single root element. You can treat that element as a list, iterating over it in a 'for' loop to get its child elements. In fact you can do this in two ways, depending on whether you want just the direct children of the root, or whether you want everything that the root contains."
   ]
  },
  {
   "cell_type": "code",
   "execution_count": 3,
   "metadata": {
    "collapsed": false
   },
   "outputs": [
    {
     "name": "stdout",
     "output_type": "stream",
     "text": [
      "Here are the child elements\n",
      "w\n",
      "w\n",
      "w\n",
      "w\n",
      "w\n",
      "And here are all the descendants\n",
      "s\n",
      "w\n",
      "t\n",
      "pos\n",
      "w\n",
      "t\n",
      "pos\n",
      "w\n",
      "t\n",
      "pos\n",
      "w\n",
      "t\n",
      "pos\n",
      "w\n",
      "t\n",
      "pos\n"
     ]
    }
   ],
   "source": [
    "print(\"Here are the child elements\")\n",
    "for el in sent.getroot():\n",
    "    print(el.tag)\n",
    "\n",
    "print(\"And here are all the descendants\")\n",
    "for el in sent.getroot().iter():\n",
    "    print(el.tag)"
   ]
  },
  {
   "cell_type": "markdown",
   "metadata": {},
   "source": [
    "In fact, you can treat any element as a list, in the same way!"
   ]
  },
  {
   "cell_type": "code",
   "execution_count": 4,
   "metadata": {
    "collapsed": false
   },
   "outputs": [
    {
     "name": "stdout",
     "output_type": "stream",
     "text": [
      "Here are the child elements of the third word\n",
      "t\n",
      "pos\n",
      "And here are all its descendants\n",
      "w\n",
      "t\n",
      "pos\n"
     ]
    }
   ],
   "source": [
    "thirdword = sent.getroot()[2]\n",
    "\n",
    "print(\"Here are the child elements of the third word\")\n",
    "for el in thirdword:\n",
    "    print(el.tag)\n",
    "\n",
    "print(\"And here are all its descendants\")\n",
    "for el in thirdword.iter():\n",
    "    print(el.tag)"
   ]
  },
  {
   "cell_type": "markdown",
   "metadata": {},
   "source": [
    "You can also treat any element as a dictionary to find its attributes."
   ]
  },
  {
   "cell_type": "code",
   "execution_count": 5,
   "metadata": {
    "collapsed": false
   },
   "outputs": [
    {
     "name": "stdout",
     "output_type": "stream",
     "text": [
      "The third word has an attribute\n",
      "{http://www.w3.org/XML/1998/namespace}id\n",
      "...and we can get the value of an attribute of its child\n",
      "NNP\n"
     ]
    }
   ],
   "source": [
    "print(\"The third word has an attribute\")\n",
    "for k in thirdword.keys():\n",
    "    print(k)\n",
    "\n",
    "print(\"...and we can get the value of an attribute of its child\")\n",
    "for el in thirdword:\n",
    "    if el.tag == 'pos':\n",
    "        print(el.get('class'))"
   ]
  },
  {
   "cell_type": "markdown",
   "metadata": {},
   "source": [
    "Naturally, we can also get the text content of an element. Along the way, we also see how we can use the `iter()` method on an element (which we saw above) to look for descendant elements with a particular tag."
   ]
  },
  {
   "cell_type": "code",
   "execution_count": 6,
   "metadata": {
    "collapsed": false
   },
   "outputs": [
    {
     "name": "stdout",
     "output_type": "stream",
     "text": [
      "He\n",
      "is\n",
      "Mr. \n",
      "Smith\n",
      ".\n"
     ]
    }
   ],
   "source": [
    "for el in sent.iter('t'):\n",
    "    print(el.text)"
   ]
  },
  {
   "cell_type": "markdown",
   "metadata": {},
   "source": [
    "We might also want to know how to print the XML back out again, either for the entire document or for a particular element. This is a little tricky - we use the `etree.tostring()` method, but that gives us **bytes** rather than **characters**. To do this correctly, we will have to \"decode\" the bytes into characters, and in order to do that we will have to know what character set was used. We can get this information from the document's `docinfo`."
   ]
  },
  {
   "cell_type": "code",
   "execution_count": 8,
   "metadata": {
    "collapsed": false
   },
   "outputs": [
    {
     "name": "stdout",
     "output_type": "stream",
     "text": [
      "<w xml:id=\"example.p.1.s.2.w.3\">\n",
      "        <t>Mr. </t>\n",
      "        <pos class=\"NNP\"/>\n",
      "    </w>\n",
      "    \n"
     ]
    }
   ],
   "source": [
    "# Turn the element into bytes\n",
    "xml_word_bytes = etree.tostring(thirdword)\n",
    "\n",
    "# Find out what character set was being used - this is in the docinfo\n",
    "# of the tree we first parsed.\n",
    "character_set = sent.docinfo.encoding\n",
    "\n",
    "# Now turn those bytes into characters\n",
    "print(xml_word_bytes.decode(character_set))"
   ]
  },
  {
   "cell_type": "markdown",
   "metadata": {},
   "source": [
    "Handling XML namespaces\n",
    "------------\n",
    "\n",
    "We've seen already that in \"real\" XML documents such as TEI files, we have to work within namespaces. The lxml library handles namespaces very directly - let's try parsing the Bertrand Russell document to see how it looks."
   ]
  },
  {
   "cell_type": "code",
   "execution_count": 9,
   "metadata": {
    "collapsed": false
   },
   "outputs": [
    {
     "data": {
      "text/plain": [
       "'{http://www.tei-c.org/ns/1.0}TEI'"
      ]
     },
     "execution_count": 9,
     "metadata": {},
     "output_type": "execute_result"
    }
   ],
   "source": [
    "russell = etree.parse(\"russell.xml\")\n",
    "russell.getroot().tag"
   ]
  },
  {
   "cell_type": "markdown",
   "metadata": {},
   "source": [
    "Okay that's ugly, but it's also pretty direct. The namespace URL goes in curly braces `{}`, and the actual tag name comes right after. We need to use this format whenever we look for tags in the document. Let's say we want to look at all the page numbers, for example:"
   ]
  },
  {
   "cell_type": "code",
   "execution_count": 10,
   "metadata": {
    "collapsed": true
   },
   "outputs": [],
   "source": [
    "for pb in russell.getroot().iter(\"pb\"):\n",
    "    print(\"Found page %s\" % pb.get(\"n\"))"
   ]
  },
  {
   "cell_type": "markdown",
   "metadata": {},
   "source": [
    "That didn't work—it didn't find any page breaks—because we didn't specify a namespace! Instead, this is how we need to look."
   ]
  },
  {
   "cell_type": "code",
   "execution_count": 13,
   "metadata": {
    "collapsed": false
   },
   "outputs": [
    {
     "name": "stdout",
     "output_type": "stream",
     "text": [
      "Found page 198\n",
      "Found page 199\n",
      "Found page 200\n"
     ]
    }
   ],
   "source": [
    "for pb in russell.getroot().iter(\"{http://www.tei-c.org/ns/1.0}pb\"):\n",
    "    print(\"Found page %s\" % pb.get(\"n\"))"
   ]
  },
  {
   "cell_type": "markdown",
   "metadata": {},
   "source": [
    "Obviously it is boring and annoying to type out a namespace every time we want to look for a tag, so to make our lives easier we can define a function in our code that will spit out the namespace we want."
   ]
  },
  {
   "cell_type": "code",
   "execution_count": 14,
   "metadata": {
    "collapsed": false
   },
   "outputs": [
    {
     "name": "stdout",
     "output_type": "stream",
     "text": [
      "Found page 198\n",
      "Found page 199\n",
      "Found page 200\n"
     ]
    }
   ],
   "source": [
    "def nstag(tag):\n",
    "    return \"{http://www.tei-c.org/ns/1.0}%s\" % tag\n",
    "\n",
    "for pb in russell.getroot().iter(nstag(\"pb\")):\n",
    "    print(\"Found page %s\" % pb.get(\"n\"))"
   ]
  },
  {
   "cell_type": "markdown",
   "metadata": {},
   "source": [
    "Handling mixed text content\n",
    "----------\n",
    "\n",
    "TEI is a somewhat complicated form of XML, because usually TEI documents have what we call *mixed content*. This means that a given element may contain a mixture of text and other elements. We see that in a paragraph like this:\n",
    "\n",
    "    <p>If you say the same thing to a Frenchman with a slight knowledge \n",
    "    of English he will go through some inner speech which may be\n",
    "    represented by <q xml:lang=\"fr-FR\">\"Que dit-il ? Ah, oui, une\n",
    "    automobile !\"</q> After this, the rest follows as with the Englishman. \n",
    "    Watson would contend that the inner speech must be incipiently\n",
    "    pronounced; we should argue that it might be merely imaged. But this\n",
    "    point is not important in the present connection. </p>\n",
    "    \n",
    "This paragraph has a text node (from 'If you say...' to '...represented by'), followed by a `<q>` element with its own text, followed by another text node that begins with 'After this...\". So how would you retrieve the text of this paragraph?"
   ]
  },
  {
   "cell_type": "code",
   "execution_count": 15,
   "metadata": {
    "collapsed": false
   },
   "outputs": [
    {
     "data": {
      "text/plain": [
       "'If you say the same thing to a Frenchman with a slight knowledge of English he will go through some inner speech which may be represented by '"
      ]
     },
     "execution_count": 15,
     "metadata": {},
     "output_type": "execute_result"
    }
   ],
   "source": [
    "# A variable to hold the paragraph we want\n",
    "pgraph = None\n",
    "\n",
    "# Find the right paragraph\n",
    "for pg in russell.getroot().iter(nstag(\"p\")):\n",
    "    if pg.text.startswith(\"If you say\"):\n",
    "        pgraph = pg\n",
    "        break\n",
    "        \n",
    "# Now let's see what the text of this paragraph is.\n",
    "pgraph.text"
   ]
  },
  {
   "cell_type": "markdown",
   "metadata": {},
   "source": [
    "Huh, that's incomplete. What is going on here?\n",
    "\n",
    "Let's look at what lxml thinks the contents of the paragraph should be."
   ]
  },
  {
   "cell_type": "code",
   "execution_count": 16,
   "metadata": {
    "collapsed": false
   },
   "outputs": [
    {
     "name": "stdout",
     "output_type": "stream",
     "text": [
      "<Element {http://www.tei-c.org/ns/1.0}q at 0x105496748>\n",
      "\"Que dit-il ? Ah, oui, une automobile !\"\n"
     ]
    }
   ],
   "source": [
    "for el in pgraph:\n",
    "    print(el)\n",
    "    print(el.text)"
   ]
  },
  {
   "cell_type": "markdown",
   "metadata": {},
   "source": [
    "Hmm. So from the perspective of lxml, the paragraph has some text, which is the first bit of what we think its text is, and then it has an element `<q>`, which has its own text. So where is the rest of the text hiding? The answer is in the *tail*.\n",
    "\n",
    "The idea here is that an element can have text inside it, and it can also have text after it. So when using lxml, if we want all the text inside an element, we have to look both inside *and behind* its child elements!"
   ]
  },
  {
   "cell_type": "code",
   "execution_count": 17,
   "metadata": {
    "collapsed": false
   },
   "outputs": [
    {
     "name": "stdout",
     "output_type": "stream",
     "text": [
      "If you say the same thing to a Frenchman with a slight knowledge of English he will go through some inner speech which may be represented by \n",
      "\"Que dit-il ? Ah, oui, une automobile !\"\n",
      " After this, the rest follows as with the Englishman. Watson would contend that the inner speech must be incipiently pronounced; we should argue that it might be merely imaged. But this point is not important in the present connection. \n"
     ]
    }
   ],
   "source": [
    "print(pgraph.text)\n",
    "for el in pgraph:\n",
    "    print(el.text)\n",
    "    print(el.tail)"
   ]
  },
  {
   "cell_type": "markdown",
   "metadata": {},
   "source": [
    "Be careful though - if you want *all* the text inside an element, you might need to use `.iter()` to get not just the children, but all descendants!"
   ]
  },
  {
   "cell_type": "code",
   "execution_count": 19,
   "metadata": {
    "collapsed": false
   },
   "outputs": [
    {
     "name": "stdout",
     "output_type": "stream",
     "text": [
      "This will be incomplete...\n",
      "So far we have found four ways of understanding words: \n",
      "               \n",
      "\n",
      "                  \n",
      " \n",
      "\n",
      "...but this should get everything!\n",
      "So far we have found four ways of understanding words: \n",
      "               \n",
      "(1)\n",
      "On suitable occasions you use the word properly.\n",
      "(2)\n",
      "When you hear it you act appropriately \n",
      "(3)\n",
      "You associate the word with another word (say in a different language) which has the appropriate effect on behaviour.\n",
      "(4)\n",
      "When the word is being first learnt, you may associate it with an object, which is what it \" means\" or a representative of various objects that it \"means.\"\n"
     ]
    }
   ],
   "source": [
    "list_pgraph = None\n",
    "for pg in russell.getroot().iter(nstag(\"p\")):\n",
    "    if pg.text.startswith(\"So far we have found\"):\n",
    "        list_pgraph = pg\n",
    "        break\n",
    "        \n",
    "print(\"This will be incomplete...\")\n",
    "print(list_pgraph.text)\n",
    "for el in list_pgraph:\n",
    "    print(el.text)\n",
    "    print(el.tail)\n",
    "    \n",
    "print(\"\\n...but this should get everything!\")\n",
    "for el in list_pgraph.iter():\n",
    "    if el.text is not None and el.text.rstrip() != '':\n",
    "        print(el.text)\n",
    "    if el.tail is not None and el.tail.rstrip() != '':\n",
    "        print(el.tail)"
   ]
  },
  {
   "cell_type": "markdown",
   "metadata": {},
   "source": [
    "Python and XPath\n",
    "--------\n",
    "\n",
    "The skills we learned in the last class didn't go entirely to waste; it's perfectly possible, and also pretty useful, to use XPath expressions from within Python! \n",
    "\n",
    "In order to do that, though, we want to handle the namespaces a little more nicely than lxml tends to. Full namespace URLs will have slash characters (`/`) in them, and these characters are also important in XPath, so mixing the two is never nice. None of you want to have to write an XPath expression that looks like\n",
    "\n",
    "    //http:\\/\\/www.tei-c.org\\/ns\\/1.0:text/http:\\/\\/www.tei-c.org\\/ns\\/1.0:body/[...]\n",
    "    \n",
    "and so on. Fortunately, as we will see, you can define a shorthand for any namespace (just as we did while using XQuery) to get around this problem and send your shortcut to the XPath evaluator. This is what it looks like."
   ]
  },
  {
   "cell_type": "code",
   "execution_count": 20,
   "metadata": {
    "collapsed": false
   },
   "outputs": [
    {
     "data": {
      "text/plain": [
       "['The Merchant of Venice.']"
      ]
     },
     "execution_count": 20,
     "metadata": {},
     "output_type": "execute_result"
    }
   ],
   "source": [
    "# Read in a Shakespeare play\n",
    "play = etree.parse(\"merchant_venice.xml\")\n",
    "\n",
    "# Make a dictionary to define our namespace shortcuts\n",
    "ns = {'tei':'http://www.tei-c.org/ns/1.0'}\n",
    "\n",
    "# Run an XPath search within the play, but give it the dictionary to\n",
    "# tell it what namespaces we are using!\n",
    "play.xpath('//tei:fileDesc/tei:titleStmt/tei:title/text()', namespaces=ns)"
   ]
  },
  {
   "cell_type": "markdown",
   "metadata": {},
   "source": [
    "An important thing to remember is that XPath results will usually come in the form of a list! It's possible to write an expression that gives you something else, e.g. if you want to count elements."
   ]
  },
  {
   "cell_type": "code",
   "execution_count": 21,
   "metadata": {
    "collapsed": false
   },
   "outputs": [
    {
     "data": {
      "text/plain": [
       "637.0"
      ]
     },
     "execution_count": 21,
     "metadata": {},
     "output_type": "execute_result"
    }
   ],
   "source": [
    "play.xpath('count(//tei:sp)', namespaces=ns)"
   ]
  },
  {
   "cell_type": "markdown",
   "metadata": {},
   "source": [
    "But if your expression is meant to return the result of a search for an element or for text nodes, then you'll get a list even if it contains only one element."
   ]
  },
  {
   "cell_type": "code",
   "execution_count": 22,
   "metadata": {
    "collapsed": false
   },
   "outputs": [
    {
     "data": {
      "text/plain": [
       "[<Element {http://www.tei-c.org/ns/1.0}teiHeader at 0x105496dc8>]"
      ]
     },
     "execution_count": 22,
     "metadata": {},
     "output_type": "execute_result"
    }
   ],
   "source": [
    "play.xpath('//tei:teiHeader', namespaces=ns)"
   ]
  },
  {
   "cell_type": "markdown",
   "metadata": {},
   "source": [
    "In XPath, context is everything. So far we have run all of our XPath expressions against the root of the document, so that the only thing under the initial `/` is the root element, which is to say, the `<TEI>` element. But in fact you can run an XPath expression against any element in the document! The element against which the XPath expression is run is called the *context*, and it is quite similar to working on the command line.\n"
   ]
  },
  {
   "cell_type": "code",
   "execution_count": 24,
   "metadata": {
    "collapsed": false
   },
   "outputs": [
    {
     "name": "stdout",
     "output_type": "stream",
     "text": [
      "['Sal.']\n",
      "['Salar.']\n",
      "['Sal.']\n",
      "['Anth.']\n"
     ]
    }
   ],
   "source": [
    "# Let's get a list of speaking parts from the play\n",
    "speaking_parts = play.xpath('//tei:text//tei:sp', namespaces=ns)\n",
    "\n",
    "# Here is an XPath expression that will retrieve the speaker for a given speaking part\n",
    "xpath_expression = './tei:speaker/text()'\n",
    "\n",
    "# Now we can run the same expression against different <sp> elements and get different results!\n",
    "print(speaking_parts[1].xpath(xpath_expression, namespaces=ns))\n",
    "print(speaking_parts[2].xpath(xpath_expression, namespaces=ns))\n",
    "print(speaking_parts[3].xpath(xpath_expression, namespaces=ns))\n",
    "print(speaking_parts[4].xpath(xpath_expression, namespaces=ns))"
   ]
  },
  {
   "cell_type": "markdown",
   "metadata": {},
   "source": [
    "One last note concerning the text of the document: be careful not to confuse the lxml way with the xpath way! Let's see what happens when we ask for the text nodes of the Russell paragraph we were looking at before."
   ]
  },
  {
   "cell_type": "code",
   "execution_count": 26,
   "metadata": {
    "collapsed": false
   },
   "outputs": [
    {
     "data": {
      "text/plain": [
       "['If you say the same thing to a Frenchman with a slight knowledge of English he will go through some inner speech which may be represented by ',\n",
       " '\"Que dit-il ? Ah, oui, une automobile !\"',\n",
       " ' After this, the rest follows as with the Englishman. Watson would contend that the inner speech must be incipiently pronounced; we should argue that it might be merely imaged. But this point is not important in the present connection. ']"
      ]
     },
     "execution_count": 26,
     "metadata": {},
     "output_type": "execute_result"
    }
   ],
   "source": [
    "pgraph.xpath('descendant::text()', namespaces=ns)"
   ]
  },
  {
   "cell_type": "code",
   "execution_count": null,
   "metadata": {
    "collapsed": true
   },
   "outputs": [],
   "source": []
  }
 ],
 "metadata": {
  "kernelspec": {
   "display_name": "Python 3",
   "language": "python",
   "name": "python3"
  },
  "language_info": {
   "codemirror_mode": {
    "name": "ipython",
    "version": 3
   },
   "file_extension": ".py",
   "mimetype": "text/x-python",
   "name": "python",
   "nbconvert_exporter": "python",
   "pygments_lexer": "ipython3",
   "version": "3.5.1"
  }
 },
 "nbformat": 4,
 "nbformat_minor": 0
}
