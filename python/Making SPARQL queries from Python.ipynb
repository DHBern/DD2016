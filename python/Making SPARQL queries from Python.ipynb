{
 "cells": [
  {
   "cell_type": "markdown",
   "metadata": {},
   "source": [
    "Putting the 'linked' into Linked Open Data\n",
    "==========\n",
    "\n",
    "While web endpoints to RDF data stores (e.g. [DBpedia](http://dbpedia.org/sparql), [data.admin.ch](http://data.admin.ch/sparql/), or [UK transport data](http://openuplabs.tso.co.uk/sparql/gov-transport)) are very useful for seeing what sort of data is available from a given service, you generally cannot use one service's endpoint to query another service's data. This is a job for a client-side program!\n",
    "\n",
    "We can do this in Python with the `SPARQLWrapper` library. Install it with\n",
    "\n",
    "    pip install SPARQLWrapper\n",
    "    \n",
    "either at the command line or in a cell prefixed with the `!` character. We load it up like so:"
   ]
  },
  {
   "cell_type": "code",
   "execution_count": 1,
   "metadata": {
    "collapsed": true
   },
   "outputs": [],
   "source": [
    "from SPARQLWrapper import SPARQLWrapper, JSON"
   ]
  },
  {
   "cell_type": "markdown",
   "metadata": {},
   "source": [
    "Figuring out how to query RDF data always takes some legwork - you have to understand what is in the dataset before you can usefully query it. We can begin with a query we did in class, to select municipalities from the Swiss government data. We will have to tell Python the URL of the endpoint that can give us the answer. \n",
    "\n",
    "We will ask for everything that is a `Municipality` according to the vocabulary of `data.admin.ch`, and find the corresponding link to its dbpedia entry. The result looks something like this:"
   ]
  },
  {
   "cell_type": "code",
   "execution_count": 2,
   "metadata": {
    "collapsed": false
   },
   "outputs": [
    {
     "data": {
      "text/plain": [
       "{'head': {'link': [], 'vars': ['name', 'dbpentry']},\n",
       " 'results': {'bindings': [{'dbpentry': {'type': 'uri',\n",
       "     'value': 'http://dbpedia.org/resource/Riehen'},\n",
       "    'name': {'type': 'literal', 'value': 'Riehen'}},\n",
       "   {'dbpentry': {'type': 'uri',\n",
       "     'value': 'http://dbpedia.org/resource/Stallikon'},\n",
       "    'name': {'type': 'literal', 'value': 'Stallikon'}},\n",
       "   {'dbpentry': {'type': 'uri',\n",
       "     'value': 'http://dbpedia.org/resource/Rickenbach,_Thurgau'},\n",
       "    'name': {'type': 'literal', 'value': 'Rickenbach (TG)'}},\n",
       "   {'dbpentry': {'type': 'uri', 'value': 'http://dbpedia.org/resource/Jaberg'},\n",
       "    'name': {'type': 'literal', 'value': 'Jaberg'}},\n",
       "   {'dbpentry': {'type': 'uri', 'value': 'http://dbpedia.org/resource/Pigniu'},\n",
       "    'name': {'type': 'literal', 'value': 'Pigniu'}},\n",
       "   {'dbpentry': {'type': 'uri',\n",
       "     'value': 'http://dbpedia.org/resource/Richterswil'},\n",
       "    'name': {'type': 'literal', 'value': 'Richterswil'}},\n",
       "   {'dbpentry': {'type': 'uri',\n",
       "     'value': 'http://dbpedia.org/resource/Samstagern'},\n",
       "    'name': {'type': 'literal', 'value': 'Richterswil'}},\n",
       "   {'dbpentry': {'type': 'uri',\n",
       "     'value': 'http://dbpedia.org/resource/Oberrohrdorf'},\n",
       "    'name': {'type': 'literal', 'value': 'Oberrohrdorf'}},\n",
       "   {'dbpentry': {'type': 'uri',\n",
       "     'value': 'http://dbpedia.org/resource/Grossh%C3%B6chstetten'},\n",
       "    'name': {'type': 'literal', 'value': 'Grosshöchstetten'}},\n",
       "   {'dbpentry': {'type': 'uri',\n",
       "     'value': 'http://dbpedia.org/resource/Cully,_Switzerland'},\n",
       "    'name': {'type': 'literal', 'value': 'Cully'}}],\n",
       "  'distinct': False,\n",
       "  'ordered': True}}"
      ]
     },
     "execution_count": 2,
     "metadata": {},
     "output_type": "execute_result"
    }
   ],
   "source": [
    "sparql = SPARQLWrapper(\"http://data.admin.ch/query/\")\n",
    "\n",
    "sparql.setQuery(\"\"\"\n",
    "PREFIX ch: <http://data.admin.ch/vocab/>\n",
    "PREFIX owl: <http://www.w3.org/2002/07/owl#>\n",
    "SELECT ?name, ?dbpentry WHERE {\n",
    "  ?sub a ch:Municipality .\n",
    "  ?sub ch:municipalityShortName ?name .\n",
    "  ?sub owl:sameAs ?dbpentry .\n",
    "  FILTER regex(?dbpentry, 'dbpedia.org')\n",
    "} LIMIT 10\n",
    "\"\"\")\n",
    "\n",
    "sparql.setReturnFormat(JSON)\n",
    "answer = sparql.query().convert()\n",
    "\n",
    "answer"
   ]
  },
  {
   "cell_type": "markdown",
   "metadata": {},
   "source": [
    "We can see, in the returned JSON, that our results are in the `bindings` key of the `results` key of the JSON answer, and each element in the bindings list corresponds, essentially, to a row of the results. Our variables `?name` and `?dbpentry` are the keys within that element, and their values each have a `type` and a `value`. So we can map municipality name to DBpedia URL like so."
   ]
  },
  {
   "cell_type": "code",
   "execution_count": 3,
   "metadata": {
    "collapsed": false
   },
   "outputs": [
    {
     "data": {
      "text/plain": [
       "{'Cully': 'http://dbpedia.org/resource/Cully,_Switzerland',\n",
       " 'Grosshöchstetten': 'http://dbpedia.org/resource/Grossh%C3%B6chstetten',\n",
       " 'Jaberg': 'http://dbpedia.org/resource/Jaberg',\n",
       " 'Oberrohrdorf': 'http://dbpedia.org/resource/Oberrohrdorf',\n",
       " 'Pigniu': 'http://dbpedia.org/resource/Pigniu',\n",
       " 'Richterswil': 'http://dbpedia.org/resource/Samstagern',\n",
       " 'Rickenbach (TG)': 'http://dbpedia.org/resource/Rickenbach,_Thurgau',\n",
       " 'Riehen': 'http://dbpedia.org/resource/Riehen',\n",
       " 'Stallikon': 'http://dbpedia.org/resource/Stallikon'}"
      ]
     },
     "execution_count": 3,
     "metadata": {},
     "output_type": "execute_result"
    }
   ],
   "source": [
    "dbp_uris = {}\n",
    "for row in answer['results']['bindings']:\n",
    "    mname = row['name']['value']\n",
    "    uri = row['dbpentry']['value']\n",
    "    dbp_uris[mname] = uri\n",
    "    \n",
    "dbp_uris"
   ]
  },
  {
   "cell_type": "markdown",
   "metadata": {},
   "source": [
    "Now to get the information we're after - the area of each municipality - we need to go query DBpedia! Some Internet legwork (i.e. Googling \"dbpedia sparql endpoint\") leads us to the new endpoint that we need to use. We also need to go hunt around on the DBpedia endpoint page to find out what URI corresponds to the namespace prefix `dbp`. I've done both of these things for you, so we can write our new query accordingly. Let's try it at first just with one of the cities."
   ]
  },
  {
   "cell_type": "code",
   "execution_count": 4,
   "metadata": {
    "collapsed": false
   },
   "outputs": [
    {
     "data": {
      "text/plain": [
       "{'head': {'link': [], 'vars': ['area']},\n",
       " 'results': {'bindings': [], 'distinct': False, 'ordered': True}}"
      ]
     },
     "execution_count": 4,
     "metadata": {},
     "output_type": "execute_result"
    }
   ],
   "source": [
    "sparql = SPARQLWrapper(\"http://dbpedia.org/sparql\")\n",
    "sparql.setQuery(\"\"\"\n",
    "PREFIX dbp: <http://dbpedia.org/property/>\n",
    "SELECT ?area WHERE {\n",
    "  <%s> dbp:area ?area .\n",
    "} \n",
    "\"\"\" % dbp_uris['Richterswil'] )\n",
    "sparql.setReturnFormat(JSON)\n",
    "results = sparql.query().convert()\n",
    "results"
   ]
  },
  {
   "cell_type": "markdown",
   "metadata": {
    "collapsed": true
   },
   "source": [
    "So we see what we need to do! For each of these cities, we need to feed its DBpedia URI into the query that we've written in order to get an answer. This requires a judicious use of a `for` loop. "
   ]
  },
  {
   "cell_type": "code",
   "execution_count": 5,
   "metadata": {
    "collapsed": false
   },
   "outputs": [
    {
     "name": "stdout",
     "output_type": "stream",
     "text": [
      "Result for Stallikon is 12.01\n",
      "Got no result for Grosshöchstetten\n",
      "Got no result for Richterswil\n",
      "Result for Jaberg is 1.3\n",
      "Result for Cully is 2.38\n",
      "Result for Oberrohrdorf is 4.3\n",
      "Result for Rickenbach (TG) is 1.56\n",
      "Result for Pigniu is 17.98\n",
      "Result for Riehen is 10.86\n"
     ]
    }
   ],
   "source": [
    "# Here is our query, with the %s where we will need to fill in the URI.\n",
    "query_template = \"\"\"\n",
    "PREFIX dbp: <http://dbpedia.org/property/>\n",
    "SELECT ?area WHERE {\n",
    "  <%s> dbp:area ?area .\n",
    "} \n",
    "\"\"\"\n",
    "\n",
    "# Loop through each city, applying the query.\n",
    "for city in dbp_uris:\n",
    "    sparql.setQuery(query_template % dbp_uris[city])\n",
    "    sparql.setReturnFormat(JSON)\n",
    "    answer = sparql.query().convert()\n",
    "    # See if we got an answer; if not, the bindings will have a length of zero.\n",
    "    if answer['results']['bindings']:\n",
    "        print(\"Result for %s is %s\" % (city, answer['results']['bindings'][0]['area']['value']))\n",
    "    else:\n",
    "        print(\"Got no result for %s\" % city)\n",
    "        "
   ]
  }
 ],
 "metadata": {
  "kernelspec": {
   "display_name": "Python 3",
   "language": "python",
   "name": "python3"
  },
  "language_info": {
   "codemirror_mode": {
    "name": "ipython",
    "version": 3
   },
   "file_extension": ".py",
   "mimetype": "text/x-python",
   "name": "python",
   "nbconvert_exporter": "python",
   "pygments_lexer": "ipython3",
   "version": "3.5.1"
  }
 },
 "nbformat": 4,
 "nbformat_minor": 0
}
