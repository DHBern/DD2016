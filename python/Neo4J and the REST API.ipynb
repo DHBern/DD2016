{
 "cells": [
  {
   "cell_type": "markdown",
   "metadata": {},
   "source": [
    "The Neo4J REST interface\n",
    "========================\n",
    "\n",
    "We generally want to use a graph database with large and unwieldy datasets - that is more or less the point of the thing. So this means that we usually won't be creating or maintaining a graph exclusively, or even primarily, with Cypher. It also means that we can get at the data without going through the user interface, pretty as it is.\n",
    "\n",
    "Neo4J has [a REST API](http://neo4j.com/docs/stable/rest-api.html) - this means that you can use URLs and the `requests` library to do more or less anything you like!"
   ]
  },
  {
   "cell_type": "code",
   "execution_count": 1,
   "metadata": {
    "collapsed": false
   },
   "outputs": [
    {
     "data": {
      "text/plain": [
       "401"
      ]
     },
     "execution_count": 1,
     "metadata": {},
     "output_type": "execute_result"
    }
   ],
   "source": [
    "import requests\n",
    "\n",
    "r = requests.get('http://localhost:7474/db/data/')\n",
    "r.status_code"
   ]
  },
  {
   "cell_type": "markdown",
   "metadata": {},
   "source": [
    "Got to authenticate first! See the docs."
   ]
  },
  {
   "cell_type": "code",
   "execution_count": 2,
   "metadata": {
    "collapsed": false
   },
   "outputs": [
    {
     "data": {
      "text/plain": [
       "200"
      ]
     },
     "execution_count": 2,
     "metadata": {},
     "output_type": "execute_result"
    }
   ],
   "source": [
    "import base64\n",
    "\n",
    "authstring = 'Basic ' + base64.b64encode(\n",
    "    b\"neo4j:YOURPASSWORDGOESHERE\").decode('ascii')\n",
    "\n",
    "\n",
    "r = requests.get('http://localhost:7474/db/data/', \n",
    "                 headers={'Authorization': authstring})\n",
    "r.status_code"
   ]
  },
  {
   "cell_type": "code",
   "execution_count": 3,
   "metadata": {
    "collapsed": false
   },
   "outputs": [
    {
     "data": {
      "text/plain": [
       "{'batch': 'http://localhost:7474/db/data/batch',\n",
       " 'constraints': 'http://localhost:7474/db/data/schema/constraint',\n",
       " 'cypher': 'http://localhost:7474/db/data/cypher',\n",
       " 'extensions': {},\n",
       " 'extensions_info': 'http://localhost:7474/db/data/ext',\n",
       " 'indexes': 'http://localhost:7474/db/data/schema/index',\n",
       " 'neo4j_version': '2.3.3',\n",
       " 'node': 'http://localhost:7474/db/data/node',\n",
       " 'node_index': 'http://localhost:7474/db/data/index/node',\n",
       " 'node_labels': 'http://localhost:7474/db/data/labels',\n",
       " 'relationship_index': 'http://localhost:7474/db/data/index/relationship',\n",
       " 'relationship_types': 'http://localhost:7474/db/data/relationship/types',\n",
       " 'transaction': 'http://localhost:7474/db/data/transaction'}"
      ]
     },
     "execution_count": 3,
     "metadata": {},
     "output_type": "execute_result"
    }
   ],
   "source": [
    "r.json()"
   ]
  },
  {
   "cell_type": "markdown",
   "metadata": {},
   "source": [
    "The Neo4J interface was designed to be *discoverable*, meaning you can start at the beginning and it tells you a bunch of places you can go. You see that you can get the node and relationship types, and an index for each of the nodes, and so on."
   ]
  },
  {
   "cell_type": "code",
   "execution_count": 4,
   "metadata": {
    "collapsed": false
   },
   "outputs": [
    {
     "data": {
      "text/plain": [
       "['Movie', 'BOOK', 'Person', 'PERSON', 'BORROWER', 'AUTHOR']"
      ]
     },
     "execution_count": 4,
     "metadata": {},
     "output_type": "execute_result"
    }
   ],
   "source": [
    "r = requests.get('http://localhost:7474/db/data/labels', \n",
    "                 headers={'Authorization': authstring})\n",
    "r.json()"
   ]
  },
  {
   "cell_type": "markdown",
   "metadata": {},
   "source": [
    "You can execute Cypher statements through the REST API. Reload the Hollywood database if you have deleted it, to get some data in there."
   ]
  },
  {
   "cell_type": "code",
   "execution_count": 6,
   "metadata": {
    "collapsed": false
   },
   "outputs": [
    {
     "data": {
      "text/plain": [
       "{'errors': [],\n",
       " 'results': [{'columns': ['cloudAtlas'],\n",
       "   'data': [{'rest': [{'all_relationships': 'http://localhost:7474/db/data/node/105/relationships/all',\n",
       "       'all_typed_relationships': 'http://localhost:7474/db/data/node/105/relationships/all/{-list|&|types}',\n",
       "       'create_relationship': 'http://localhost:7474/db/data/node/105/relationships',\n",
       "       'data': {'released': 2012,\n",
       "        'tagline': 'Everything is connected',\n",
       "        'title': 'Cloud Atlas'},\n",
       "       'incoming_relationships': 'http://localhost:7474/db/data/node/105/relationships/in',\n",
       "       'incoming_typed_relationships': 'http://localhost:7474/db/data/node/105/relationships/in/{-list|&|types}',\n",
       "       'labels': 'http://localhost:7474/db/data/node/105/labels',\n",
       "       'metadata': {'id': 105, 'labels': ['Movie']},\n",
       "       'outgoing_relationships': 'http://localhost:7474/db/data/node/105/relationships/out',\n",
       "       'outgoing_typed_relationships': 'http://localhost:7474/db/data/node/105/relationships/out/{-list|&|types}',\n",
       "       'paged_traverse': 'http://localhost:7474/db/data/node/105/paged/traverse/{returnType}{?pageSize,leaseTime}',\n",
       "       'properties': 'http://localhost:7474/db/data/node/105/properties',\n",
       "       'property': 'http://localhost:7474/db/data/node/105/properties/{key}',\n",
       "       'self': 'http://localhost:7474/db/data/node/105',\n",
       "       'traverse': 'http://localhost:7474/db/data/node/105/traverse/{returnType}'}]}]}]}"
      ]
     },
     "execution_count": 6,
     "metadata": {},
     "output_type": "execute_result"
    }
   ],
   "source": [
    "import json\n",
    "\n",
    "cypher_stmt = 'MATCH (cloudAtlas {title: \"Cloud Atlas\"}) RETURN cloudAtlas'\n",
    "\n",
    "payload = json.dumps(\n",
    "    {'statements': [\n",
    "        { 'statement': cypher_stmt, \"resultDataContents\" : [ \"REST\" ] }\n",
    "    ]})\n",
    "\n",
    "r = requests.post('http://localhost:7474/db/data/transaction/commit', \n",
    "                  headers={'Authorization': authstring}, data=payload)\n",
    "r.json()"
   ]
  },
  {
   "cell_type": "markdown",
   "metadata": {},
   "source": [
    "But this is quickly getting rather complicated! We will come back to the REST interface to discuss traversals, but in the meantime there is a library to handle this REST interface for us. It is called py2neo and [its documentation is here](http://py2neo.org/v3/)."
   ]
  },
  {
   "cell_type": "code",
   "execution_count": null,
   "metadata": {
    "collapsed": false
   },
   "outputs": [],
   "source": [
    "!pip install py2neo==3b2"
   ]
  },
  {
   "cell_type": "code",
   "execution_count": 9,
   "metadata": {
    "collapsed": false
   },
   "outputs": [
    {
     "data": {
      "text/plain": [
       "'Cloud Atlas'"
      ]
     },
     "execution_count": 9,
     "metadata": {},
     "output_type": "execute_result"
    }
   ],
   "source": [
    "from py2neo import Graph\n",
    "db = Graph(password=\"cyK-Jek-Va\")\n",
    "result = db.run(cypher_stmt)\n",
    "\n",
    "cloudatlas = result.evaluate()\n",
    "cloudatlas[\"title\"] "
   ]
  },
  {
   "cell_type": "markdown",
   "metadata": {},
   "source": [
    "Here is how you add a node to the graph:"
   ]
  },
  {
   "cell_type": "code",
   "execution_count": 10,
   "metadata": {
    "collapsed": false
   },
   "outputs": [
    {
     "data": {
      "text/plain": [
       "(jennifer_lawrence:Person {born:1990,name:\"Jennifer Lawrence\"})"
      ]
     },
     "execution_count": 10,
     "metadata": {},
     "output_type": "execute_result"
    }
   ],
   "source": [
    "from py2neo import Node, Relationship\n",
    "\n",
    "transaction = db.begin()\n",
    "jennifer = Node(\"Person\", name=\"Jennifer Lawrence\", born=1990)\n",
    "jennifer"
   ]
  },
  {
   "cell_type": "code",
   "execution_count": 11,
   "metadata": {
    "collapsed": false
   },
   "outputs": [
    {
     "data": {
      "text/plain": [
       "False"
      ]
     },
     "execution_count": 11,
     "metadata": {},
     "output_type": "execute_result"
    }
   ],
   "source": [
    "db.exists(jennifer)"
   ]
  },
  {
   "cell_type": "code",
   "execution_count": 12,
   "metadata": {
    "collapsed": false
   },
   "outputs": [
    {
     "data": {
      "text/plain": [
       "False"
      ]
     },
     "execution_count": 12,
     "metadata": {},
     "output_type": "execute_result"
    }
   ],
   "source": [
    "transaction.create(jennifer)\n",
    "db.exists(jennifer)"
   ]
  },
  {
   "cell_type": "code",
   "execution_count": 13,
   "metadata": {
    "collapsed": false
   },
   "outputs": [
    {
     "data": {
      "text/plain": [
       "True"
      ]
     },
     "execution_count": 13,
     "metadata": {},
     "output_type": "execute_result"
    }
   ],
   "source": [
    "transaction.commit()\n",
    "db.exists(jennifer)"
   ]
  },
  {
   "cell_type": "markdown",
   "metadata": {},
   "source": [
    "And here is how you add a relationship."
   ]
  },
  {
   "cell_type": "code",
   "execution_count": null,
   "metadata": {
    "collapsed": true
   },
   "outputs": [],
   "source": [
    "hungergames = Node(\"Movie\", title=\"The Hunger Games\", released=2012)\n",
    "transaction = db.begin()\n",
    "transaction.create(hungergames)\n",
    "katniss = Relationship(jennifer, 'ACTED_IN', hungergames, \n",
    "                       roles=['Katniss Everdeen'])\n",
    "transaction.create(katniss)\n",
    "transaction.commit()"
   ]
  },
  {
   "cell_type": "markdown",
   "metadata": {},
   "source": [
    "Now we can put this together with what we have learned about Python to create a lot of nodes at once. IMDB makes its data freely available as a bunch of text files, and we know how to read text files. We also know how to create nodes. So let's give it a try.\n",
    "\n",
    "The \"actors\" and \"actresses\" lists come with a helpful set of guidelines about their own format:\n",
    "\n",
    "    \"xxxxx\"        = a television series\n",
    "    \"xxxxx\" (mini) = a television mini-series\n",
    "    [xxxxx]        = character name\n",
    "    <xx>           = number to indicate billing position in credits\n",
    "    (TV)           = TV movie, or made for cable movie\n",
    "    (V)            = made for video movie (this category does NOT include TV \n",
    "                     episodes repackaged for video, guest appearances in \n",
    "                     variety/comedy specials released on video, or \n",
    "                     self-help/physical fitness videos)\n",
    "\n",
    "and a single entry looks like this:\n",
    "\n",
    "\tLawrence, Jennifer (III)\t14 Actors Acting (2010) (V)  [Herself]\n",
    "\t\t\t\t\t\t\t16th Annual Critics' Choice Movie Awards (2011) (TV)  [Herself - Presenter]\n",
    "\t\t\t\t\t\t\t17th Annual Screen Actors Guild Awards (2011) (TV)  [Herself]\n",
    "\t\t\t\t\t\t\t18th Annual Critics' Choice Movie Awards (2013) (TV)  [Herself]\n",
    "\t\t\t\t\t\t\t19th Annual Critics' Choice Movie Awards (2014) (TV)  (credit only)  [Herself - Nominee]  <25>\n",
    "                            \n",
    "so we have some hints for interpreting it. Anything that is in quotes, or followed by (TV), is a TV show. Anything else is a movie, and for now let's just care about movies.\n",
    "\n",
    "The `movies.list` comes with a bunch of things in a very similar format. An actual movie looks like this:\n",
    "\n",
    "    A Monster Is Loose in the City (1976)                   1976\n",
    "\n",
    "whereas a TV episode is more likely to look like this:\n",
    "\n",
    "    \"Una Maid en Manhattan\" (2011) {Vida obra y milagro (#1.40)}    2012\n",
    "\n",
    "So we can go through the movie list, getting all the actual movies and making nodes out of them. We can then go through the taglines list, adding a tagline for each movie. Finally we can go through the actors and actresses list, adding those people who have appeared in the movies we select, and so have a much larger movie graph!\n",
    "\n"
   ]
  },
  {
   "cell_type": "code",
   "execution_count": 32,
   "metadata": {
    "collapsed": false
   },
   "outputs": [
    {
     "name": "stdout",
     "output_type": "stream",
     "text": [
      "Weird line: --------------------------------------------------------------------------------\n",
      "Done, with 950430 movies\n"
     ]
    }
   ],
   "source": [
    "import re\n",
    "\n",
    "movienodes = []\n",
    "with open(\"imdb/movies.list\", encoding=\"ISO-8859-15\") as f:\n",
    "    found_movies_list = False\n",
    "    for line in f:\n",
    "        if found_movies_list:\n",
    "            # Our movie line parsing logic goes here.\n",
    "            if re.match(\"^\\s*$\", line):\n",
    "                continue\n",
    "            elif re.match('^\\\"', line):\n",
    "                continue\n",
    "            else:\n",
    "                # Strip off the line ending\n",
    "                line = line.rstrip()\n",
    "                lineparts = re.split(\"\\t+\", line)\n",
    "                if len(lineparts) != 2:\n",
    "                    print(\"Weird line: %s\" % line)\n",
    "                    continue\n",
    "                title = lineparts[0]; released = lineparts[1]\n",
    "\n",
    "                # Now we know the release date is in the second line part.\n",
    "                # Let's look at the first one - if it has a (TV) or a (V) \n",
    "                # then we don't care. \n",
    "                if re.search(\"\\(T?V\\)\", title):\n",
    "                    continue\n",
    "                    \n",
    "                # We can also see that the release date is repeated in the\n",
    "                # title. We don't care about that. Let's get rid of it.\n",
    "                reldate = re.compile(\" \\(%s\\)\" % re.escape(released))\n",
    "                title = reldate.sub('', title)\n",
    "                \n",
    "                # Finally, change the released date to an integer type if it's a year.\n",
    "                if re.match(\"^\\d+$\", released):\n",
    "                    released = int(released)\n",
    "                \n",
    "                # Now we can make our graph node.\n",
    "                newmovie = Node(\"Movie\", title=title, released=released)\n",
    "                movienodes.append(newmovie)\n",
    "        else:\n",
    "            if line.find(\"======\") > -1:\n",
    "                found_movies_list = True\n",
    "\n",
    "print(\"Done, with %d movies\" % len(movienodes))"
   ]
  },
  {
   "cell_type": "code",
   "execution_count": 33,
   "metadata": {
    "collapsed": false
   },
   "outputs": [
    {
     "name": "stdout",
     "output_type": "stream",
     "text": [
      "(d8af168:Movie {released:2010,title:\"C'est comme ça que ça finit\"})\n"
     ]
    }
   ],
   "source": [
    "print(movienodes[125632])"
   ]
  }
 ],
 "metadata": {
  "kernelspec": {
   "display_name": "Python 3",
   "language": "python",
   "name": "python3"
  },
  "language_info": {
   "codemirror_mode": {
    "name": "ipython",
    "version": 3
   },
   "file_extension": ".py",
   "mimetype": "text/x-python",
   "name": "python",
   "nbconvert_exporter": "python",
   "pygments_lexer": "ipython3",
   "version": "3.5.1"
  }
 },
 "nbformat": 4,
 "nbformat_minor": 0
}
